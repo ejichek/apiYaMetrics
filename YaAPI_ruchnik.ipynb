{
 "cells": [
  {
   "cell_type": "code",
   "execution_count": 1,
   "id": "3e527e3e-8926-4f32-a6a6-f0475968115d",
   "metadata": {},
   "outputs": [],
   "source": [
    "import os\n",
    "import re\n",
    "import glob\n",
    "import json\n",
    "import data \n",
    "import requests\n",
    "import pandas as pd\n",
    "from io import StringIO"
   ]
  },
  {
   "cell_type": "code",
   "execution_count": 2,
   "id": "4b4d07a7-bcf1-485f-a781-5b09b0a53869",
   "metadata": {},
   "outputs": [],
   "source": [
    "# with open(r'C:\\Users\\User\\Desktop\\py_scripts\\airflow_tests\\json_hits_constant.json', 'r', encoding=\"utf-8\") as jsonFile1:\n",
    "#     constantJsonData = json.load(jsonFile1)\n",
    "\n",
    "start_date_v = '2024-07-01'\n",
    "end_date_v = '2024-07-01'\n",
    "#col_tab_v = constantJsonData['YaApiHitsConstant']['col_tab']\n",
    "counter_id_v = '12084547'\n",
    "API_token_v = 'y0_AgAAAAB29aj2AAwCXgAAAAEJFTfLAACPMhg8YaZLl6Rcw-kzM1TBWecfyg'\n",
    "headers_v = {'Authorization': f\"OAuth {API_token_v}\", 'Accept-Encoding': 'gzip'}\n",
    "path_request_id_v = r'C:\\Users\\User\\Desktop\\py_scripts\\tsv\\tmp\\request_id_folder\\request_id.txt'\n",
    "path_parts_and_partsizes_txt_v = r'C:\\Users\\User\\Desktop\\py_scripts\\tsv\\tmp\\parts_and_partsizes_folder\\parts_and_partsizes.txt'\n",
    "path_tsv_v = r'C:\\Users\\User\\Desktop\\py_scripts\\tsv\\tmp\\tsv_folder'\n",
    "path_parquet_v = r'C:\\Users\\User\\Desktop\\py_scripts\\tsv\\tmp\\parquet_folder'"
   ]
  },
  {
   "cell_type": "code",
   "execution_count": 28,
   "id": "11749083-b621-4f70-a45e-477027c41f78",
   "metadata": {},
   "outputs": [],
   "source": [
    "# Оценка возможности создания запроса\n",
    "\n",
    "def ocenka_vozmozhnisti_sozd_zaprosa(counter_id, API_token, headers, start_date, end_date, col_tab):\n",
    "    get_ocenka = f\"https://api-metrika.yandex.net/management/v1/counter/{counter_id}/logrequests/evaluate\"\n",
    "\n",
    "    params_ocenka = {\n",
    "        'date1': start_date,\n",
    "        'date2': end_date,\n",
    "        'fields': col_tab,\n",
    "        'source': 'hits'  # hits visits \n",
    "        }\n",
    "\n",
    "    r = requests.get(get_ocenka, params = params_ocenka, headers=headers)\n",
    "\n",
    "    if r.status_code == 200: \n",
    "        if r.json()['log_request_evaluation']['possible'] == True:\n",
    "            print('Выгрузка возможна')\n",
    "        elif r.json()['log_request_evaluation']['possible'] == False:\n",
    "            print('YaApi ответил что выгрузка невозможна')\n",
    "#            print(r.json())\n",
    "        else: print('Что-то пошло не так')\n",
    "    else: \n",
    "        print('Запрос упал: ', r.status_code)\n",
    "        return('Error')"
   ]
  },
  {
   "cell_type": "code",
   "execution_count": 29,
   "id": "094e4e40-f2a7-4df5-9074-82e331167104",
   "metadata": {},
   "outputs": [
    {
     "name": "stdout",
     "output_type": "stream",
     "text": [
      "Выгрузка возможна\n",
      "CPU times: total: 31.2 ms\n",
      "Wall time: 7.88 s\n"
     ]
    }
   ],
   "source": [
    "%%time\n",
    "ocenka_vozmozhnisti_sozd_zaprosa(counter_id=counter_id_v, API_token=API_token_v, headers=headers_v,\n",
    "                                 start_date=start_date_v, end_date=end_date_v, col_tab=col_tab_v)"
   ]
  },
  {
   "cell_type": "code",
   "execution_count": 30,
   "id": "bacd46c7-4e39-46e2-89a4-84751895d639",
   "metadata": {},
   "outputs": [],
   "source": [
    "# Создание запроса логов\n",
    "# Нужно сохранить request_id\n",
    "\n",
    "def sozd_zaprosa_logov(counter_id, API_token, headers, start_date, end_date, col_tab, path_request_id):\n",
    "    post_sozdanie_zaprosa_logov = f\"https://api-metrika.yandex.net/management/v1/counter/{counter_id}/logrequests\"\n",
    "\n",
    "    params_sozdanie_zaprosa_logov = {\n",
    "        'date1': start_date,\n",
    "        'date2': end_date,\n",
    "        'fields': col_tab,\n",
    "        'source': 'hits'  # hits visits \n",
    "    }\n",
    "\n",
    "    r = requests.post(post_sozdanie_zaprosa_logov, params = params_sozdanie_zaprosa_logov, headers=headers)\n",
    "\n",
    "    if r.status_code == 200: \n",
    "        if r.json()['log_request']['status'] == 'created': \n",
    "            print('Запрос создаётся')\n",
    "            #print(r.json()['log_request']['request_id'])\n",
    "            with open(path_request_id, 'w', encoding='utf-8') as f:\n",
    "                f.write(str(r.json()['log_request']['request_id']))\n",
    "        else: print('Что-то пошло не так')\n",
    "    else: \n",
    "        print('Запрос упал: ', r.status_code)\n",
    "        return('Error')\n",
    "        \n",
    "# Функция нужна чтоб читать сохраненный request_id\n",
    "def read_request_id(path_request_id):\n",
    "    with open(path_request_id, \"r\") as f:\n",
    "        request_id = f.read()\n",
    "    return request_id"
   ]
  },
  {
   "cell_type": "code",
   "execution_count": 31,
   "id": "1e244ca6-d7b0-4aa8-a828-29e857e5d00b",
   "metadata": {},
   "outputs": [
    {
     "name": "stdout",
     "output_type": "stream",
     "text": [
      "Запрос создаётся\n",
      "CPU times: total: 15.6 ms\n",
      "Wall time: 521 ms\n"
     ]
    }
   ],
   "source": [
    "%%time\n",
    "sozd_zaprosa_logov(counter_id=counter_id_v, API_token=API_token_v, headers=headers_v, start_date=start_date_v, end_date=end_date_v,\n",
    "                   col_tab=col_tab_v, path_request_id=path_request_id_v)"
   ]
  },
  {
   "cell_type": "code",
   "execution_count": 32,
   "id": "3c6113a5-cbd3-49f5-aaaf-b110af675575",
   "metadata": {},
   "outputs": [
    {
     "name": "stdout",
     "output_type": "stream",
     "text": [
      "CPU times: total: 0 ns\n",
      "Wall time: 1.56 ms\n"
     ]
    },
    {
     "data": {
      "text/plain": [
       "'38107832'"
      ]
     },
     "execution_count": 32,
     "metadata": {},
     "output_type": "execute_result"
    }
   ],
   "source": [
    "%%time\n",
    "read_request_id(path_request_id=path_request_id_v)"
   ]
  },
  {
   "cell_type": "code",
   "execution_count": 3,
   "id": "8d68f3b6-83e0-4835-94d7-b8b8c5bb749c",
   "metadata": {},
   "outputs": [],
   "source": [
    "# Функция используется в def get_status для записи \"частей\" выгрузки и размеров этих частей\n",
    "\n",
    "def extract_parts_and_partsizes(data, path): \n",
    "    if os.path.exists(path) == True: \n",
    "        os.remove(path)\n",
    "    else: pass\n",
    "    for i in range(0, len(data)): \n",
    "        #print(data[i])\n",
    "        with open(path, 'a', encoding='utf-8') as f:\n",
    "            f.write(str(data[i]['part_number']) + '|' + str(data[i]['size']) + '\\n')\n",
    "\n",
    "\n",
    "# Информация о запросе логов.\n",
    "# Лог со статусом processed готов к выгрузке.\n",
    "# Если ваш запрос находится в статусе created, дождитесь его выполнения.\n",
    "\n",
    "def get_status(counter_id, API_token, headers, request_id, path_parts_and_partsizes_txt): \n",
    "    get_status = f\"https://api-metrika.yandex.net/management/v1/counter/{counter_id}/logrequest/{request_id}\"\n",
    "\n",
    "    r = requests.get(get_status, headers=headers)\n",
    "    \n",
    "    if r.status_code == 200: \n",
    "        if r.json()['log_request']['status'] == 'processed': \n",
    "            print('Нужно выгружать')\n",
    "            extract_parts_and_partsizes(data=r.json()['log_request']['parts'], path=path_parts_and_partsizes_txt)\n",
    "            print(r.json())\n",
    "        elif r.json()['log_request']['status'] == 'created':\n",
    "            print('Нужно ждать, запрос в статусе created и уже готовится или в очереди на исполнение')\n",
    "        else: \n",
    "            print('Что-то пошло не так ', r.status_code)\n",
    "            print(r.json())\n",
    "    else: \n",
    "        print('Запрос упал: ', r.status_code) \n",
    "        return('Error')"
   ]
  },
  {
   "cell_type": "code",
   "execution_count": 4,
   "id": "d7d1d233-2db5-4206-997e-35eeeea30f49",
   "metadata": {},
   "outputs": [
    {
     "name": "stdout",
     "output_type": "stream",
     "text": [
      "Что-то пошло не так  200\n",
      "{'log_request': {'request_id': 38244344, 'counter_id': 12084547, 'source': 'visits', 'date1': '2024-07-04', 'date2': '2024-07-04', 'fields': ['ym:s:visitID', 'ym:s:date', 'ym:s:eventsProductBrand', 'ym:s:eventsProductCategory', 'ym:s:eventsProductCategory1', 'ym:s:eventsProductCategory2', 'ym:s:eventsProductCategory3', 'ym:s:eventsProductCategory4', 'ym:s:eventsProductCoupon', 'ym:s:eventsProductCurrency', 'ym:s:eventsProductDiscount', 'ym:s:eventsProductEventTime', 'ym:s:eventsProductID', 'ym:s:eventsProductList', 'ym:s:eventsProductName', 'ym:s:eventsProductPosition', 'ym:s:eventsProductPrice', 'ym:s:eventsProductQuantity', 'ym:s:eventsProductType', 'ym:s:eventsProductVariant', 'ym:s:impressionsDateTime', 'ym:s:impressionsProductBrand', 'ym:s:impressionsProductCategory', 'ym:s:impressionsProductCategory1', 'ym:s:impressionsProductCategory2', 'ym:s:impressionsProductCategory3', 'ym:s:impressionsProductCategory4', 'ym:s:impressionsProductCoupon', 'ym:s:impressionsProductCurrency', 'ym:s:impressionsProductDiscount', 'ym:s:impressionsProductEventTime', 'ym:s:impressionsProductID', 'ym:s:impressionsProductList', 'ym:s:impressionsProductName', 'ym:s:impressionsProductPrice', 'ym:s:impressionsProductQuantity'], 'status': 'cleaned_by_user', 'size': 1810452052, 'parts': [{'part_number': 0, 'size': 902321897}, {'part_number': 1, 'size': 908130155}], 'attribution': 'LASTSIGN'}}\n",
      "CPU times: total: 0 ns\n",
      "Wall time: 105 ms\n"
     ]
    }
   ],
   "source": [
    "%%time\n",
    "get_status(counter_id=counter_id_v, API_token=API_token_v, headers=headers_v, path_parts_and_partsizes_txt=path_parts_and_partsizes_txt_v, \n",
    "           request_id='38244344')"
   ]
  },
  {
   "cell_type": "code",
   "execution_count": 25,
   "id": "b0178c7f-238b-4c39-baab-0165f00e5f11",
   "metadata": {},
   "outputs": [],
   "source": [
    "# Загрузка частей логов обработанного запроса\n",
    "\n",
    "def dowload_parts(counter_id, API_token, headers, request_id, path_parts_and_partsizes_txt, path_tsv):\n",
    "    with open(path_parts_and_partsizes_txt, \"r\") as f:\n",
    "        file_parts = f.readlines()\n",
    "    #print(len(file_parts))\n",
    "    for i in range(0, len(file_parts)):\n",
    "        big_str = (file_parts[i].split('|'))\n",
    "        part_number = str(big_str[0])\n",
    "        size = int(re.sub('[^A-Za-z0-9]+', '', big_str[1]))\n",
    "        #print(str(part) + '_' + str(size))\n",
    "\n",
    "        get_dowload_part = f\"https://api-metrika.yandex.net/management/v1/counter/{counter_id}/logrequest/{request_id}/part/{part_number}/download\" \n",
    "                             \n",
    "        \n",
    "        r_dowload_part = requests.get(get_dowload_part, headers=headers)\n",
    "\n",
    "        if r_dowload_part.status_code == 200: \n",
    "            s=str(r_dowload_part.content,'utf-8')\n",
    "    \n",
    "            if len(s.encode('utf-8')) >= size:\n",
    "                data = StringIO(s) \n",
    "                df=pd.read_csv(data, sep=\"\\t\")\n",
    "                path_tsv_final = path_tsv + r\"\\tsv_\" + str(request_id) + \"_\" + part_number + \".csv\"\n",
    "                df.to_csv(path_tsv_final, sep='\\t', encoding='utf-8', index=False, header=True)\n",
    "            # надо придумать нормальное исключение\n",
    "            else: \n",
    "                print(\"Пришёл битый файл: \", big_str)\n",
    "                return(\"Error\")\n",
    "        else:        \n",
    "            print('Запрос упал: ', r.status_code) \n",
    "            return('Error')"
   ]
  },
  {
   "cell_type": "code",
   "execution_count": 24,
   "id": "ff9ffa13-b787-4359-ab43-751770d046bd",
   "metadata": {},
   "outputs": [
    {
     "ename": "NameError",
     "evalue": "name 'dowload_parts' is not defined",
     "output_type": "error",
     "traceback": [
      "\u001b[1;31m---------------------------------------------------------------------------\u001b[0m",
      "\u001b[1;31mNameError\u001b[0m                                 Traceback (most recent call last)",
      "File \u001b[1;32m<timed eval>:1\u001b[0m\n",
      "\u001b[1;31mNameError\u001b[0m: name 'dowload_parts' is not defined"
     ]
    }
   ],
   "source": [
    "%%time\n",
    "dowload_parts(counter_id=counter_id_v, API_token=API_token_v, headers=headers_v, request_id='38107784',\n",
    "              path_parts_and_partsizes_txt=path_parts_and_partsizes_txt_v, path_tsv=path_tsv_v)"
   ]
  },
  {
   "cell_type": "code",
   "execution_count": null,
   "id": "849613e3-cb10-428f-bad1-d2649833c252",
   "metadata": {},
   "outputs": [],
   "source": [
    "# Конвертируем csv в parquet\n",
    "def csv_2_parquet(path_csv_folder, path_parquet, request_id):\n",
    "    all_files = glob.glob(os.path.join(path_csv_folder, \"*.csv\"))\n",
    "    #print(all_files)\n",
    "    for i, j in zip(all_files, range(0, len(all_files))):\n",
    "        df = pd.read_csv(i, sep=\"\\t\", encoding='utf-8')\n",
    "        path_parquet_name = path_parquet + r\"\\\\parquet_\" + request_id + \"_\" + str(j) + \".parquet\"\n",
    "        df.to_parquet(path_parquet_name)"
   ]
  },
  {
   "cell_type": "code",
   "execution_count": null,
   "id": "53f56e14-e14a-42dd-94d4-c023959d3211",
   "metadata": {},
   "outputs": [],
   "source": [
    "%%time\n",
    "csv_2_parquet(path_csv_folder=path_tsv_v, path_parquet=path_parquet_v,\n",
    "              request_id=read_request_id(path_request_id=path_request_id_v))"
   ]
  },
  {
   "cell_type": "code",
   "execution_count": 5,
   "id": "53deb2f8-4881-48af-9077-82be1c29c5f3",
   "metadata": {},
   "outputs": [],
   "source": [
    "# Очистка подготовленных для загрузки логов обработанного запроса по request_id\n",
    "\n",
    "def clear_YaApi_query(counter_id, API_token, headers, request_id):\n",
    "    \n",
    "    post_clean = f\"https://api-metrika.yandex.net/management/v1/counter/{counter_id}/logrequest/{request_id}/clean\"\n",
    "    r = requests.post(post_clean, headers=headers)\n",
    "    if r.status_code == 200: \n",
    "        if r.json()['log_request']['status'] == 'cleaned_by_user':\n",
    "            print('Данные Яндекс метрики успешно очищены на стороне Яндекса')\n",
    "        else: \n",
    "            print('Что-то пошло не так')\n",
    "            print(r.json())\n",
    "    else:        \n",
    "        print('Запрос упал: ', r.status_code) \n",
    "        return('Error')"
   ]
  },
  {
   "cell_type": "code",
   "execution_count": 6,
   "id": "bfaa068e-9a8d-415a-a976-b970b55977ef",
   "metadata": {},
   "outputs": [
    {
     "name": "stdout",
     "output_type": "stream",
     "text": [
      "Данные Яндекс метрики успешно очищены на стороне Яндекса\n"
     ]
    }
   ],
   "source": [
    "#%%time\n",
    "\n",
    "clear_YaApi_query(counter_id=counter_id_v, API_token=API_token_v, headers=headers_v,\n",
    "                  request_id='38208606')"
   ]
  },
  {
   "cell_type": "code",
   "execution_count": null,
   "id": "cd3776c9-122c-4d63-9d76-d6478d23902a",
   "metadata": {},
   "outputs": [],
   "source": [
    "# Удаляет все файлы из папкм tmp (включая parquet)\n",
    "\n",
    "def del_tmp(path_request_id, path_parts_and_partsizes_txt, path_tsv, path_parquet):\n",
    "    os.remove(path_request_id)\n",
    "    os.remove(path_parts_and_partsizes_txt)\n",
    "    all_csv_files = glob.glob(os.path.join(path_tsv, \"*.csv\"))\n",
    "    for i in all_csv_files:\n",
    "        os.remove(i)\n",
    "    all_parquet_files = glob.glob(os.path.join(path_parquet, \"*.parquet\"))    \n",
    "    for j in all_parquet_files:\n",
    "        os.remove(j)\n",
    "    print(\"Все файлы удалены из папкм tmp\")"
   ]
  },
  {
   "cell_type": "code",
   "execution_count": null,
   "id": "455bce58-0241-4c0a-a183-80923ada5346",
   "metadata": {},
   "outputs": [],
   "source": [
    "%%time\n",
    "del_tmp(path_request_id=path_request_id_v, path_parts_and_partsizes_txt=path_parts_and_partsizes_txt_v,\n",
    "        path_tsv=path_tsv_v, path_parquet=path_parquet_v)"
   ]
  },
  {
   "cell_type": "code",
   "execution_count": null,
   "id": "91a4c6cc-18dd-40e1-b753-3fb17d1a8ddc",
   "metadata": {},
   "outputs": [],
   "source": []
  },
  {
   "cell_type": "code",
   "execution_count": null,
   "id": "77b79838-894a-45f6-a4cc-a77eec0d1fa8",
   "metadata": {},
   "outputs": [],
   "source": []
  },
  {
   "cell_type": "code",
   "execution_count": null,
   "id": "712f450e-f93d-4c01-a2d7-bdad81beeb8d",
   "metadata": {},
   "outputs": [],
   "source": [
    "# path_1 = r\"C:\\Users\\User\\Desktop\\py_scripts\\tsv\\tmp\\tsv_folder\\tsv_36549344_0.csv\"\n",
    "# path_2 = r\"C:\\Users\\User\\Desktop\\py_scripts\\tsv\\tmp\\36549344_final.csv\"\n",
    "# df_1 = pd.read_csv(path_1, sep=\"\\t\")\n",
    "# df_2 = pd.read_csv(path_2, sep=\"\\t\")\n",
    "# print(len(df_1), \" | \", len(df_2))"
   ]
  },
  {
   "cell_type": "code",
   "execution_count": null,
   "id": "ca6b8cd7-6416-4b09-bf1f-d0cc0d333f49",
   "metadata": {},
   "outputs": [],
   "source": [
    "# path_p = r\"C:\\Users\\User\\Desktop\\py_scripts\\tsv\\tmp\\36549344_final.parquet\"\n",
    "# df_p = pd.read_parquet(path_p) \n",
    "# df_p.head(5)"
   ]
  },
  {
   "cell_type": "code",
   "execution_count": null,
   "id": "9c23505c-8aec-49c3-a2d8-1082d9af3f7f",
   "metadata": {},
   "outputs": [],
   "source": []
  }
 ],
 "metadata": {
  "kernelspec": {
   "display_name": "Python 3 (ipykernel)",
   "language": "python",
   "name": "python3"
  },
  "language_info": {
   "codemirror_mode": {
    "name": "ipython",
    "version": 3
   },
   "file_extension": ".py",
   "mimetype": "text/x-python",
   "name": "python",
   "nbconvert_exporter": "python",
   "pygments_lexer": "ipython3",
   "version": "3.11.7"
  }
 },
 "nbformat": 4,
 "nbformat_minor": 5
}
